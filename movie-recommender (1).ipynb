{
 "cells": [
  {
   "cell_type": "code",
   "execution_count": 1,
   "id": "42f55ebf",
   "metadata": {
    "_cell_guid": "b1076dfc-b9ad-4769-8c92-a6c4dae69d19",
    "_uuid": "8f2839f25d086af736a60e9eeb907d3b93b6e0e5",
    "execution": {
     "iopub.execute_input": "2024-01-09T18:30:26.293685Z",
     "iopub.status.busy": "2024-01-09T18:30:26.292964Z",
     "iopub.status.idle": "2024-01-09T18:30:26.748546Z",
     "shell.execute_reply": "2024-01-09T18:30:26.747457Z"
    },
    "papermill": {
     "duration": 0.475191,
     "end_time": "2024-01-09T18:30:26.751365",
     "exception": false,
     "start_time": "2024-01-09T18:30:26.276174",
     "status": "completed"
    },
    "tags": []
   },
   "outputs": [
    {
     "name": "stdout",
     "output_type": "stream",
     "text": [
      "/kaggle/input/tmdb-5000-movies/tmdb_5000_movies.csv\n",
      "/kaggle/input/tmdb-5000-credits/tmdb_5000_credits.csv\n"
     ]
    }
   ],
   "source": [
    "# This Python 3 environment comes with many helpful analytics libraries installed\n",
    "# It is defined by the kaggle/python Docker image: https://github.com/kaggle/docker-python\n",
    "# For example, here's several helpful packages to load\n",
    "\n",
    "import numpy as np # linear algebra\n",
    "import pandas as pd # data processing, CSV file I/O (e.g. pd.read_csv)\n",
    "\n",
    "# Input data files are available in the read-only \"../input/\" directory\n",
    "# For example, running this (by clicking run or pressing Shift+Enter) will list all files under the input directory\n",
    "\n",
    "import os\n",
    "for dirname, _, filenames in os.walk('/kaggle/input'):\n",
    "    for filename in filenames:\n",
    "        print(os.path.join(dirname, filename))\n",
    "\n",
    "# You can write up to 20GB to the current directory (/kaggle/working/) that gets preserved as output when you create a version using \"Save & Run All\" \n",
    "# You can also write temporary files to /kaggle/temp/, but they won't be saved outside of the current session"
   ]
  },
  {
   "cell_type": "code",
   "execution_count": 2,
   "id": "9efc7fe7",
   "metadata": {
    "execution": {
     "iopub.execute_input": "2024-01-09T18:30:26.782609Z",
     "iopub.status.busy": "2024-01-09T18:30:26.781484Z",
     "iopub.status.idle": "2024-01-09T18:30:26.786034Z",
     "shell.execute_reply": "2024-01-09T18:30:26.785307Z"
    },
    "papermill": {
     "duration": 0.022286,
     "end_time": "2024-01-09T18:30:26.788292",
     "exception": false,
     "start_time": "2024-01-09T18:30:26.766006",
     "status": "completed"
    },
    "tags": []
   },
   "outputs": [],
   "source": [
    "import pandas as pd"
   ]
  },
  {
   "cell_type": "code",
   "execution_count": 3,
   "id": "77899816",
   "metadata": {
    "execution": {
     "iopub.execute_input": "2024-01-09T18:30:26.818865Z",
     "iopub.status.busy": "2024-01-09T18:30:26.818423Z",
     "iopub.status.idle": "2024-01-09T18:30:27.985351Z",
     "shell.execute_reply": "2024-01-09T18:30:27.984171Z"
    },
    "papermill": {
     "duration": 1.185591,
     "end_time": "2024-01-09T18:30:27.988169",
     "exception": false,
     "start_time": "2024-01-09T18:30:26.802578",
     "status": "completed"
    },
    "tags": []
   },
   "outputs": [],
   "source": [
    "movies = pd.read_csv('/kaggle/input/tmdb-5000-movies/tmdb_5000_movies.csv')\n",
    "credits = pd.read_csv('/kaggle/input/tmdb-5000-credits/tmdb_5000_credits.csv')"
   ]
  },
  {
   "cell_type": "code",
   "execution_count": 4,
   "id": "beb9cffd",
   "metadata": {
    "execution": {
     "iopub.execute_input": "2024-01-09T18:30:28.020214Z",
     "iopub.status.busy": "2024-01-09T18:30:28.019751Z",
     "iopub.status.idle": "2024-01-09T18:30:28.055156Z",
     "shell.execute_reply": "2024-01-09T18:30:28.053998Z"
    },
    "papermill": {
     "duration": 0.054807,
     "end_time": "2024-01-09T18:30:28.057933",
     "exception": false,
     "start_time": "2024-01-09T18:30:28.003126",
     "status": "completed"
    },
    "tags": []
   },
   "outputs": [
    {
     "data": {
      "text/html": [
       "<div>\n",
       "<style scoped>\n",
       "    .dataframe tbody tr th:only-of-type {\n",
       "        vertical-align: middle;\n",
       "    }\n",
       "\n",
       "    .dataframe tbody tr th {\n",
       "        vertical-align: top;\n",
       "    }\n",
       "\n",
       "    .dataframe thead th {\n",
       "        text-align: right;\n",
       "    }\n",
       "</style>\n",
       "<table border=\"1\" class=\"dataframe\">\n",
       "  <thead>\n",
       "    <tr style=\"text-align: right;\">\n",
       "      <th></th>\n",
       "      <th>budget</th>\n",
       "      <th>genres</th>\n",
       "      <th>homepage</th>\n",
       "      <th>id</th>\n",
       "      <th>keywords</th>\n",
       "      <th>original_language</th>\n",
       "      <th>original_title</th>\n",
       "      <th>overview</th>\n",
       "      <th>popularity</th>\n",
       "      <th>production_companies</th>\n",
       "      <th>production_countries</th>\n",
       "      <th>release_date</th>\n",
       "      <th>revenue</th>\n",
       "      <th>runtime</th>\n",
       "      <th>spoken_languages</th>\n",
       "      <th>status</th>\n",
       "      <th>tagline</th>\n",
       "      <th>title</th>\n",
       "      <th>vote_average</th>\n",
       "      <th>vote_count</th>\n",
       "    </tr>\n",
       "  </thead>\n",
       "  <tbody>\n",
       "    <tr>\n",
       "      <th>0</th>\n",
       "      <td>237000000</td>\n",
       "      <td>[{\"id\": 28, \"name\": \"Action\"}, {\"id\": 12, \"nam...</td>\n",
       "      <td>http://www.avatarmovie.com/</td>\n",
       "      <td>19995</td>\n",
       "      <td>[{\"id\": 1463, \"name\": \"culture clash\"}, {\"id\":...</td>\n",
       "      <td>en</td>\n",
       "      <td>Avatar</td>\n",
       "      <td>In the 22nd century, a paraplegic Marine is di...</td>\n",
       "      <td>150.437577</td>\n",
       "      <td>[{\"name\": \"Ingenious Film Partners\", \"id\": 289...</td>\n",
       "      <td>[{\"iso_3166_1\": \"US\", \"name\": \"United States o...</td>\n",
       "      <td>2009-12-10</td>\n",
       "      <td>2787965087</td>\n",
       "      <td>162.0</td>\n",
       "      <td>[{\"iso_639_1\": \"en\", \"name\": \"English\"}, {\"iso...</td>\n",
       "      <td>Released</td>\n",
       "      <td>Enter the World of Pandora.</td>\n",
       "      <td>Avatar</td>\n",
       "      <td>7.2</td>\n",
       "      <td>11800</td>\n",
       "    </tr>\n",
       "    <tr>\n",
       "      <th>1</th>\n",
       "      <td>300000000</td>\n",
       "      <td>[{\"id\": 12, \"name\": \"Adventure\"}, {\"id\": 14, \"...</td>\n",
       "      <td>http://disney.go.com/disneypictures/pirates/</td>\n",
       "      <td>285</td>\n",
       "      <td>[{\"id\": 270, \"name\": \"ocean\"}, {\"id\": 726, \"na...</td>\n",
       "      <td>en</td>\n",
       "      <td>Pirates of the Caribbean: At World's End</td>\n",
       "      <td>Captain Barbossa, long believed to be dead, ha...</td>\n",
       "      <td>139.082615</td>\n",
       "      <td>[{\"name\": \"Walt Disney Pictures\", \"id\": 2}, {\"...</td>\n",
       "      <td>[{\"iso_3166_1\": \"US\", \"name\": \"United States o...</td>\n",
       "      <td>2007-05-19</td>\n",
       "      <td>961000000</td>\n",
       "      <td>169.0</td>\n",
       "      <td>[{\"iso_639_1\": \"en\", \"name\": \"English\"}]</td>\n",
       "      <td>Released</td>\n",
       "      <td>At the end of the world, the adventure begins.</td>\n",
       "      <td>Pirates of the Caribbean: At World's End</td>\n",
       "      <td>6.9</td>\n",
       "      <td>4500</td>\n",
       "    </tr>\n",
       "  </tbody>\n",
       "</table>\n",
       "</div>"
      ],
      "text/plain": [
       "      budget                                             genres  \\\n",
       "0  237000000  [{\"id\": 28, \"name\": \"Action\"}, {\"id\": 12, \"nam...   \n",
       "1  300000000  [{\"id\": 12, \"name\": \"Adventure\"}, {\"id\": 14, \"...   \n",
       "\n",
       "                                       homepage     id  \\\n",
       "0                   http://www.avatarmovie.com/  19995   \n",
       "1  http://disney.go.com/disneypictures/pirates/    285   \n",
       "\n",
       "                                            keywords original_language  \\\n",
       "0  [{\"id\": 1463, \"name\": \"culture clash\"}, {\"id\":...                en   \n",
       "1  [{\"id\": 270, \"name\": \"ocean\"}, {\"id\": 726, \"na...                en   \n",
       "\n",
       "                             original_title  \\\n",
       "0                                    Avatar   \n",
       "1  Pirates of the Caribbean: At World's End   \n",
       "\n",
       "                                            overview  popularity  \\\n",
       "0  In the 22nd century, a paraplegic Marine is di...  150.437577   \n",
       "1  Captain Barbossa, long believed to be dead, ha...  139.082615   \n",
       "\n",
       "                                production_companies  \\\n",
       "0  [{\"name\": \"Ingenious Film Partners\", \"id\": 289...   \n",
       "1  [{\"name\": \"Walt Disney Pictures\", \"id\": 2}, {\"...   \n",
       "\n",
       "                                production_countries release_date     revenue  \\\n",
       "0  [{\"iso_3166_1\": \"US\", \"name\": \"United States o...   2009-12-10  2787965087   \n",
       "1  [{\"iso_3166_1\": \"US\", \"name\": \"United States o...   2007-05-19   961000000   \n",
       "\n",
       "   runtime                                   spoken_languages    status  \\\n",
       "0    162.0  [{\"iso_639_1\": \"en\", \"name\": \"English\"}, {\"iso...  Released   \n",
       "1    169.0           [{\"iso_639_1\": \"en\", \"name\": \"English\"}]  Released   \n",
       "\n",
       "                                          tagline  \\\n",
       "0                     Enter the World of Pandora.   \n",
       "1  At the end of the world, the adventure begins.   \n",
       "\n",
       "                                      title  vote_average  vote_count  \n",
       "0                                    Avatar           7.2       11800  \n",
       "1  Pirates of the Caribbean: At World's End           6.9        4500  "
      ]
     },
     "execution_count": 4,
     "metadata": {},
     "output_type": "execute_result"
    }
   ],
   "source": [
    "movies.head(2)"
   ]
  },
  {
   "cell_type": "code",
   "execution_count": 5,
   "id": "a3b07c1a",
   "metadata": {
    "execution": {
     "iopub.execute_input": "2024-01-09T18:30:28.089568Z",
     "iopub.status.busy": "2024-01-09T18:30:28.089098Z",
     "iopub.status.idle": "2024-01-09T18:30:28.101377Z",
     "shell.execute_reply": "2024-01-09T18:30:28.100256Z"
    },
    "papermill": {
     "duration": 0.031209,
     "end_time": "2024-01-09T18:30:28.103944",
     "exception": false,
     "start_time": "2024-01-09T18:30:28.072735",
     "status": "completed"
    },
    "tags": []
   },
   "outputs": [
    {
     "data": {
      "text/html": [
       "<div>\n",
       "<style scoped>\n",
       "    .dataframe tbody tr th:only-of-type {\n",
       "        vertical-align: middle;\n",
       "    }\n",
       "\n",
       "    .dataframe tbody tr th {\n",
       "        vertical-align: top;\n",
       "    }\n",
       "\n",
       "    .dataframe thead th {\n",
       "        text-align: right;\n",
       "    }\n",
       "</style>\n",
       "<table border=\"1\" class=\"dataframe\">\n",
       "  <thead>\n",
       "    <tr style=\"text-align: right;\">\n",
       "      <th></th>\n",
       "      <th>movie_id</th>\n",
       "      <th>title</th>\n",
       "      <th>cast</th>\n",
       "      <th>crew</th>\n",
       "    </tr>\n",
       "  </thead>\n",
       "  <tbody>\n",
       "    <tr>\n",
       "      <th>0</th>\n",
       "      <td>19995</td>\n",
       "      <td>Avatar</td>\n",
       "      <td>[{\"cast_id\": 242, \"character\": \"Jake Sully\", \"...</td>\n",
       "      <td>[{\"credit_id\": \"52fe48009251416c750aca23\", \"de...</td>\n",
       "    </tr>\n",
       "    <tr>\n",
       "      <th>1</th>\n",
       "      <td>285</td>\n",
       "      <td>Pirates of the Caribbean: At World's End</td>\n",
       "      <td>[{\"cast_id\": 4, \"character\": \"Captain Jack Spa...</td>\n",
       "      <td>[{\"credit_id\": \"52fe4232c3a36847f800b579\", \"de...</td>\n",
       "    </tr>\n",
       "  </tbody>\n",
       "</table>\n",
       "</div>"
      ],
      "text/plain": [
       "   movie_id                                     title  \\\n",
       "0     19995                                    Avatar   \n",
       "1       285  Pirates of the Caribbean: At World's End   \n",
       "\n",
       "                                                cast  \\\n",
       "0  [{\"cast_id\": 242, \"character\": \"Jake Sully\", \"...   \n",
       "1  [{\"cast_id\": 4, \"character\": \"Captain Jack Spa...   \n",
       "\n",
       "                                                crew  \n",
       "0  [{\"credit_id\": \"52fe48009251416c750aca23\", \"de...  \n",
       "1  [{\"credit_id\": \"52fe4232c3a36847f800b579\", \"de...  "
      ]
     },
     "execution_count": 5,
     "metadata": {},
     "output_type": "execute_result"
    }
   ],
   "source": [
    "credits.head(2)"
   ]
  },
  {
   "cell_type": "code",
   "execution_count": 6,
   "id": "7bb2d066",
   "metadata": {
    "execution": {
     "iopub.execute_input": "2024-01-09T18:30:28.138061Z",
     "iopub.status.busy": "2024-01-09T18:30:28.137166Z",
     "iopub.status.idle": "2024-01-09T18:30:28.171996Z",
     "shell.execute_reply": "2024-01-09T18:30:28.170754Z"
    },
    "papermill": {
     "duration": 0.055393,
     "end_time": "2024-01-09T18:30:28.175184",
     "exception": false,
     "start_time": "2024-01-09T18:30:28.119791",
     "status": "completed"
    },
    "tags": []
   },
   "outputs": [],
   "source": [
    "movies = movies.merge(credits,on='title')"
   ]
  },
  {
   "cell_type": "code",
   "execution_count": 7,
   "id": "b3de62b6",
   "metadata": {
    "execution": {
     "iopub.execute_input": "2024-01-09T18:30:28.207170Z",
     "iopub.status.busy": "2024-01-09T18:30:28.206748Z",
     "iopub.status.idle": "2024-01-09T18:30:28.232616Z",
     "shell.execute_reply": "2024-01-09T18:30:28.231451Z"
    },
    "papermill": {
     "duration": 0.044993,
     "end_time": "2024-01-09T18:30:28.235325",
     "exception": false,
     "start_time": "2024-01-09T18:30:28.190332",
     "status": "completed"
    },
    "tags": []
   },
   "outputs": [
    {
     "data": {
      "text/html": [
       "<div>\n",
       "<style scoped>\n",
       "    .dataframe tbody tr th:only-of-type {\n",
       "        vertical-align: middle;\n",
       "    }\n",
       "\n",
       "    .dataframe tbody tr th {\n",
       "        vertical-align: top;\n",
       "    }\n",
       "\n",
       "    .dataframe thead th {\n",
       "        text-align: right;\n",
       "    }\n",
       "</style>\n",
       "<table border=\"1\" class=\"dataframe\">\n",
       "  <thead>\n",
       "    <tr style=\"text-align: right;\">\n",
       "      <th></th>\n",
       "      <th>budget</th>\n",
       "      <th>genres</th>\n",
       "      <th>homepage</th>\n",
       "      <th>id</th>\n",
       "      <th>keywords</th>\n",
       "      <th>original_language</th>\n",
       "      <th>original_title</th>\n",
       "      <th>overview</th>\n",
       "      <th>popularity</th>\n",
       "      <th>production_companies</th>\n",
       "      <th>...</th>\n",
       "      <th>runtime</th>\n",
       "      <th>spoken_languages</th>\n",
       "      <th>status</th>\n",
       "      <th>tagline</th>\n",
       "      <th>title</th>\n",
       "      <th>vote_average</th>\n",
       "      <th>vote_count</th>\n",
       "      <th>movie_id</th>\n",
       "      <th>cast</th>\n",
       "      <th>crew</th>\n",
       "    </tr>\n",
       "  </thead>\n",
       "  <tbody>\n",
       "    <tr>\n",
       "      <th>0</th>\n",
       "      <td>237000000</td>\n",
       "      <td>[{\"id\": 28, \"name\": \"Action\"}, {\"id\": 12, \"nam...</td>\n",
       "      <td>http://www.avatarmovie.com/</td>\n",
       "      <td>19995</td>\n",
       "      <td>[{\"id\": 1463, \"name\": \"culture clash\"}, {\"id\":...</td>\n",
       "      <td>en</td>\n",
       "      <td>Avatar</td>\n",
       "      <td>In the 22nd century, a paraplegic Marine is di...</td>\n",
       "      <td>150.437577</td>\n",
       "      <td>[{\"name\": \"Ingenious Film Partners\", \"id\": 289...</td>\n",
       "      <td>...</td>\n",
       "      <td>162.0</td>\n",
       "      <td>[{\"iso_639_1\": \"en\", \"name\": \"English\"}, {\"iso...</td>\n",
       "      <td>Released</td>\n",
       "      <td>Enter the World of Pandora.</td>\n",
       "      <td>Avatar</td>\n",
       "      <td>7.2</td>\n",
       "      <td>11800</td>\n",
       "      <td>19995</td>\n",
       "      <td>[{\"cast_id\": 242, \"character\": \"Jake Sully\", \"...</td>\n",
       "      <td>[{\"credit_id\": \"52fe48009251416c750aca23\", \"de...</td>\n",
       "    </tr>\n",
       "    <tr>\n",
       "      <th>1</th>\n",
       "      <td>300000000</td>\n",
       "      <td>[{\"id\": 12, \"name\": \"Adventure\"}, {\"id\": 14, \"...</td>\n",
       "      <td>http://disney.go.com/disneypictures/pirates/</td>\n",
       "      <td>285</td>\n",
       "      <td>[{\"id\": 270, \"name\": \"ocean\"}, {\"id\": 726, \"na...</td>\n",
       "      <td>en</td>\n",
       "      <td>Pirates of the Caribbean: At World's End</td>\n",
       "      <td>Captain Barbossa, long believed to be dead, ha...</td>\n",
       "      <td>139.082615</td>\n",
       "      <td>[{\"name\": \"Walt Disney Pictures\", \"id\": 2}, {\"...</td>\n",
       "      <td>...</td>\n",
       "      <td>169.0</td>\n",
       "      <td>[{\"iso_639_1\": \"en\", \"name\": \"English\"}]</td>\n",
       "      <td>Released</td>\n",
       "      <td>At the end of the world, the adventure begins.</td>\n",
       "      <td>Pirates of the Caribbean: At World's End</td>\n",
       "      <td>6.9</td>\n",
       "      <td>4500</td>\n",
       "      <td>285</td>\n",
       "      <td>[{\"cast_id\": 4, \"character\": \"Captain Jack Spa...</td>\n",
       "      <td>[{\"credit_id\": \"52fe4232c3a36847f800b579\", \"de...</td>\n",
       "    </tr>\n",
       "  </tbody>\n",
       "</table>\n",
       "<p>2 rows × 23 columns</p>\n",
       "</div>"
      ],
      "text/plain": [
       "      budget                                             genres  \\\n",
       "0  237000000  [{\"id\": 28, \"name\": \"Action\"}, {\"id\": 12, \"nam...   \n",
       "1  300000000  [{\"id\": 12, \"name\": \"Adventure\"}, {\"id\": 14, \"...   \n",
       "\n",
       "                                       homepage     id  \\\n",
       "0                   http://www.avatarmovie.com/  19995   \n",
       "1  http://disney.go.com/disneypictures/pirates/    285   \n",
       "\n",
       "                                            keywords original_language  \\\n",
       "0  [{\"id\": 1463, \"name\": \"culture clash\"}, {\"id\":...                en   \n",
       "1  [{\"id\": 270, \"name\": \"ocean\"}, {\"id\": 726, \"na...                en   \n",
       "\n",
       "                             original_title  \\\n",
       "0                                    Avatar   \n",
       "1  Pirates of the Caribbean: At World's End   \n",
       "\n",
       "                                            overview  popularity  \\\n",
       "0  In the 22nd century, a paraplegic Marine is di...  150.437577   \n",
       "1  Captain Barbossa, long believed to be dead, ha...  139.082615   \n",
       "\n",
       "                                production_companies  ... runtime  \\\n",
       "0  [{\"name\": \"Ingenious Film Partners\", \"id\": 289...  ...   162.0   \n",
       "1  [{\"name\": \"Walt Disney Pictures\", \"id\": 2}, {\"...  ...   169.0   \n",
       "\n",
       "                                    spoken_languages    status  \\\n",
       "0  [{\"iso_639_1\": \"en\", \"name\": \"English\"}, {\"iso...  Released   \n",
       "1           [{\"iso_639_1\": \"en\", \"name\": \"English\"}]  Released   \n",
       "\n",
       "                                          tagline  \\\n",
       "0                     Enter the World of Pandora.   \n",
       "1  At the end of the world, the adventure begins.   \n",
       "\n",
       "                                      title vote_average vote_count movie_id  \\\n",
       "0                                    Avatar          7.2      11800    19995   \n",
       "1  Pirates of the Caribbean: At World's End          6.9       4500      285   \n",
       "\n",
       "                                                cast  \\\n",
       "0  [{\"cast_id\": 242, \"character\": \"Jake Sully\", \"...   \n",
       "1  [{\"cast_id\": 4, \"character\": \"Captain Jack Spa...   \n",
       "\n",
       "                                                crew  \n",
       "0  [{\"credit_id\": \"52fe48009251416c750aca23\", \"de...  \n",
       "1  [{\"credit_id\": \"52fe4232c3a36847f800b579\", \"de...  \n",
       "\n",
       "[2 rows x 23 columns]"
      ]
     },
     "execution_count": 7,
     "metadata": {},
     "output_type": "execute_result"
    }
   ],
   "source": [
    "movies.head(2)"
   ]
  },
  {
   "cell_type": "code",
   "execution_count": 8,
   "id": "92a987b7",
   "metadata": {
    "execution": {
     "iopub.execute_input": "2024-01-09T18:30:28.268898Z",
     "iopub.status.busy": "2024-01-09T18:30:28.268505Z",
     "iopub.status.idle": "2024-01-09T18:30:28.301229Z",
     "shell.execute_reply": "2024-01-09T18:30:28.299609Z"
    },
    "papermill": {
     "duration": 0.052393,
     "end_time": "2024-01-09T18:30:28.303832",
     "exception": false,
     "start_time": "2024-01-09T18:30:28.251439",
     "status": "completed"
    },
    "tags": []
   },
   "outputs": [
    {
     "name": "stdout",
     "output_type": "stream",
     "text": [
      "<class 'pandas.core.frame.DataFrame'>\n",
      "RangeIndex: 4809 entries, 0 to 4808\n",
      "Data columns (total 23 columns):\n",
      " #   Column                Non-Null Count  Dtype  \n",
      "---  ------                --------------  -----  \n",
      " 0   budget                4809 non-null   int64  \n",
      " 1   genres                4809 non-null   object \n",
      " 2   homepage              1713 non-null   object \n",
      " 3   id                    4809 non-null   int64  \n",
      " 4   keywords              4809 non-null   object \n",
      " 5   original_language     4809 non-null   object \n",
      " 6   original_title        4809 non-null   object \n",
      " 7   overview              4806 non-null   object \n",
      " 8   popularity            4809 non-null   float64\n",
      " 9   production_companies  4809 non-null   object \n",
      " 10  production_countries  4809 non-null   object \n",
      " 11  release_date          4808 non-null   object \n",
      " 12  revenue               4809 non-null   int64  \n",
      " 13  runtime               4807 non-null   float64\n",
      " 14  spoken_languages      4809 non-null   object \n",
      " 15  status                4809 non-null   object \n",
      " 16  tagline               3965 non-null   object \n",
      " 17  title                 4809 non-null   object \n",
      " 18  vote_average          4809 non-null   float64\n",
      " 19  vote_count            4809 non-null   int64  \n",
      " 20  movie_id              4809 non-null   int64  \n",
      " 21  cast                  4809 non-null   object \n",
      " 22  crew                  4809 non-null   object \n",
      "dtypes: float64(3), int64(5), object(15)\n",
      "memory usage: 864.2+ KB\n"
     ]
    }
   ],
   "source": [
    "movies.info()"
   ]
  },
  {
   "cell_type": "code",
   "execution_count": 9,
   "id": "2a90f3f4",
   "metadata": {
    "execution": {
     "iopub.execute_input": "2024-01-09T18:30:28.336955Z",
     "iopub.status.busy": "2024-01-09T18:30:28.336487Z",
     "iopub.status.idle": "2024-01-09T18:30:28.355373Z",
     "shell.execute_reply": "2024-01-09T18:30:28.354037Z"
    },
    "papermill": {
     "duration": 0.038393,
     "end_time": "2024-01-09T18:30:28.357911",
     "exception": false,
     "start_time": "2024-01-09T18:30:28.319518",
     "status": "completed"
    },
    "tags": []
   },
   "outputs": [
    {
     "data": {
      "text/html": [
       "<div>\n",
       "<style scoped>\n",
       "    .dataframe tbody tr th:only-of-type {\n",
       "        vertical-align: middle;\n",
       "    }\n",
       "\n",
       "    .dataframe tbody tr th {\n",
       "        vertical-align: top;\n",
       "    }\n",
       "\n",
       "    .dataframe thead th {\n",
       "        text-align: right;\n",
       "    }\n",
       "</style>\n",
       "<table border=\"1\" class=\"dataframe\">\n",
       "  <thead>\n",
       "    <tr style=\"text-align: right;\">\n",
       "      <th></th>\n",
       "      <th>movie_id</th>\n",
       "      <th>title</th>\n",
       "      <th>overview</th>\n",
       "      <th>genres</th>\n",
       "      <th>keywords</th>\n",
       "      <th>cast</th>\n",
       "      <th>crew</th>\n",
       "    </tr>\n",
       "  </thead>\n",
       "  <tbody>\n",
       "    <tr>\n",
       "      <th>0</th>\n",
       "      <td>19995</td>\n",
       "      <td>Avatar</td>\n",
       "      <td>In the 22nd century, a paraplegic Marine is di...</td>\n",
       "      <td>[{\"id\": 28, \"name\": \"Action\"}, {\"id\": 12, \"nam...</td>\n",
       "      <td>[{\"id\": 1463, \"name\": \"culture clash\"}, {\"id\":...</td>\n",
       "      <td>[{\"cast_id\": 242, \"character\": \"Jake Sully\", \"...</td>\n",
       "      <td>[{\"credit_id\": \"52fe48009251416c750aca23\", \"de...</td>\n",
       "    </tr>\n",
       "    <tr>\n",
       "      <th>1</th>\n",
       "      <td>285</td>\n",
       "      <td>Pirates of the Caribbean: At World's End</td>\n",
       "      <td>Captain Barbossa, long believed to be dead, ha...</td>\n",
       "      <td>[{\"id\": 12, \"name\": \"Adventure\"}, {\"id\": 14, \"...</td>\n",
       "      <td>[{\"id\": 270, \"name\": \"ocean\"}, {\"id\": 726, \"na...</td>\n",
       "      <td>[{\"cast_id\": 4, \"character\": \"Captain Jack Spa...</td>\n",
       "      <td>[{\"credit_id\": \"52fe4232c3a36847f800b579\", \"de...</td>\n",
       "    </tr>\n",
       "  </tbody>\n",
       "</table>\n",
       "</div>"
      ],
      "text/plain": [
       "   movie_id                                     title  \\\n",
       "0     19995                                    Avatar   \n",
       "1       285  Pirates of the Caribbean: At World's End   \n",
       "\n",
       "                                            overview  \\\n",
       "0  In the 22nd century, a paraplegic Marine is di...   \n",
       "1  Captain Barbossa, long believed to be dead, ha...   \n",
       "\n",
       "                                              genres  \\\n",
       "0  [{\"id\": 28, \"name\": \"Action\"}, {\"id\": 12, \"nam...   \n",
       "1  [{\"id\": 12, \"name\": \"Adventure\"}, {\"id\": 14, \"...   \n",
       "\n",
       "                                            keywords  \\\n",
       "0  [{\"id\": 1463, \"name\": \"culture clash\"}, {\"id\":...   \n",
       "1  [{\"id\": 270, \"name\": \"ocean\"}, {\"id\": 726, \"na...   \n",
       "\n",
       "                                                cast  \\\n",
       "0  [{\"cast_id\": 242, \"character\": \"Jake Sully\", \"...   \n",
       "1  [{\"cast_id\": 4, \"character\": \"Captain Jack Spa...   \n",
       "\n",
       "                                                crew  \n",
       "0  [{\"credit_id\": \"52fe48009251416c750aca23\", \"de...  \n",
       "1  [{\"credit_id\": \"52fe4232c3a36847f800b579\", \"de...  "
      ]
     },
     "execution_count": 9,
     "metadata": {},
     "output_type": "execute_result"
    }
   ],
   "source": [
    "movies = movies[['movie_id','title','overview','genres','keywords','cast','crew']]\n",
    "movies.head(2)"
   ]
  },
  {
   "cell_type": "code",
   "execution_count": 10,
   "id": "518b9c00",
   "metadata": {
    "execution": {
     "iopub.execute_input": "2024-01-09T18:30:28.391226Z",
     "iopub.status.busy": "2024-01-09T18:30:28.390778Z",
     "iopub.status.idle": "2024-01-09T18:30:28.403098Z",
     "shell.execute_reply": "2024-01-09T18:30:28.402279Z"
    },
    "papermill": {
     "duration": 0.031779,
     "end_time": "2024-01-09T18:30:28.405479",
     "exception": false,
     "start_time": "2024-01-09T18:30:28.373700",
     "status": "completed"
    },
    "tags": []
   },
   "outputs": [],
   "source": [
    "movies.dropna(inplace=True)"
   ]
  },
  {
   "cell_type": "code",
   "execution_count": 11,
   "id": "b4da8aea",
   "metadata": {
    "execution": {
     "iopub.execute_input": "2024-01-09T18:30:28.439618Z",
     "iopub.status.busy": "2024-01-09T18:30:28.439218Z",
     "iopub.status.idle": "2024-01-09T18:30:28.546439Z",
     "shell.execute_reply": "2024-01-09T18:30:28.545225Z"
    },
    "papermill": {
     "duration": 0.127275,
     "end_time": "2024-01-09T18:30:28.548993",
     "exception": false,
     "start_time": "2024-01-09T18:30:28.421718",
     "status": "completed"
    },
    "tags": []
   },
   "outputs": [
    {
     "data": {
      "text/plain": [
       "0"
      ]
     },
     "execution_count": 11,
     "metadata": {},
     "output_type": "execute_result"
    }
   ],
   "source": [
    "movies.duplicated().sum()"
   ]
  },
  {
   "cell_type": "code",
   "execution_count": 12,
   "id": "67f6df62",
   "metadata": {
    "execution": {
     "iopub.execute_input": "2024-01-09T18:30:28.646938Z",
     "iopub.status.busy": "2024-01-09T18:30:28.646551Z",
     "iopub.status.idle": "2024-01-09T18:30:28.653342Z",
     "shell.execute_reply": "2024-01-09T18:30:28.652262Z"
    },
    "papermill": {
     "duration": 0.090873,
     "end_time": "2024-01-09T18:30:28.655800",
     "exception": false,
     "start_time": "2024-01-09T18:30:28.564927",
     "status": "completed"
    },
    "tags": []
   },
   "outputs": [
    {
     "data": {
      "text/plain": [
       "'[{\"id\": 28, \"name\": \"Action\"}, {\"id\": 12, \"name\": \"Adventure\"}, {\"id\": 14, \"name\": \"Fantasy\"}, {\"id\": 878, \"name\": \"Science Fiction\"}]'"
      ]
     },
     "execution_count": 12,
     "metadata": {},
     "output_type": "execute_result"
    }
   ],
   "source": [
    "movies.iloc[0].genres"
   ]
  },
  {
   "cell_type": "code",
   "execution_count": 13,
   "id": "692aa709",
   "metadata": {
    "execution": {
     "iopub.execute_input": "2024-01-09T18:30:28.690022Z",
     "iopub.status.busy": "2024-01-09T18:30:28.689637Z",
     "iopub.status.idle": "2024-01-09T18:30:28.695024Z",
     "shell.execute_reply": "2024-01-09T18:30:28.693811Z"
    },
    "papermill": {
     "duration": 0.025407,
     "end_time": "2024-01-09T18:30:28.697370",
     "exception": false,
     "start_time": "2024-01-09T18:30:28.671963",
     "status": "completed"
    },
    "tags": []
   },
   "outputs": [],
   "source": [
    "import ast"
   ]
  },
  {
   "cell_type": "code",
   "execution_count": 14,
   "id": "5e3113b9",
   "metadata": {
    "execution": {
     "iopub.execute_input": "2024-01-09T18:30:28.732524Z",
     "iopub.status.busy": "2024-01-09T18:30:28.731846Z",
     "iopub.status.idle": "2024-01-09T18:30:28.737290Z",
     "shell.execute_reply": "2024-01-09T18:30:28.736210Z"
    },
    "papermill": {
     "duration": 0.025737,
     "end_time": "2024-01-09T18:30:28.739660",
     "exception": false,
     "start_time": "2024-01-09T18:30:28.713923",
     "status": "completed"
    },
    "tags": []
   },
   "outputs": [],
   "source": [
    "def solve(obj):\n",
    "    L = []\n",
    "    for i in ast.literal_eval(obj):\n",
    "        L.append(i['name'])\n",
    "    return L"
   ]
  },
  {
   "cell_type": "code",
   "execution_count": 15,
   "id": "130e9b31",
   "metadata": {
    "execution": {
     "iopub.execute_input": "2024-01-09T18:30:28.774127Z",
     "iopub.status.busy": "2024-01-09T18:30:28.773682Z",
     "iopub.status.idle": "2024-01-09T18:30:28.987286Z",
     "shell.execute_reply": "2024-01-09T18:30:28.986121Z"
    },
    "papermill": {
     "duration": 0.234202,
     "end_time": "2024-01-09T18:30:28.990174",
     "exception": false,
     "start_time": "2024-01-09T18:30:28.755972",
     "status": "completed"
    },
    "tags": []
   },
   "outputs": [],
   "source": [
    "movies['genres'] = movies['genres'].apply(solve)"
   ]
  },
  {
   "cell_type": "code",
   "execution_count": 16,
   "id": "68df3494",
   "metadata": {
    "execution": {
     "iopub.execute_input": "2024-01-09T18:30:29.026111Z",
     "iopub.status.busy": "2024-01-09T18:30:29.025478Z",
     "iopub.status.idle": "2024-01-09T18:30:29.039386Z",
     "shell.execute_reply": "2024-01-09T18:30:29.038514Z"
    },
    "papermill": {
     "duration": 0.034897,
     "end_time": "2024-01-09T18:30:29.041955",
     "exception": false,
     "start_time": "2024-01-09T18:30:29.007058",
     "status": "completed"
    },
    "tags": []
   },
   "outputs": [
    {
     "data": {
      "text/html": [
       "<div>\n",
       "<style scoped>\n",
       "    .dataframe tbody tr th:only-of-type {\n",
       "        vertical-align: middle;\n",
       "    }\n",
       "\n",
       "    .dataframe tbody tr th {\n",
       "        vertical-align: top;\n",
       "    }\n",
       "\n",
       "    .dataframe thead th {\n",
       "        text-align: right;\n",
       "    }\n",
       "</style>\n",
       "<table border=\"1\" class=\"dataframe\">\n",
       "  <thead>\n",
       "    <tr style=\"text-align: right;\">\n",
       "      <th></th>\n",
       "      <th>movie_id</th>\n",
       "      <th>title</th>\n",
       "      <th>overview</th>\n",
       "      <th>genres</th>\n",
       "      <th>keywords</th>\n",
       "      <th>cast</th>\n",
       "      <th>crew</th>\n",
       "    </tr>\n",
       "  </thead>\n",
       "  <tbody>\n",
       "    <tr>\n",
       "      <th>0</th>\n",
       "      <td>19995</td>\n",
       "      <td>Avatar</td>\n",
       "      <td>In the 22nd century, a paraplegic Marine is di...</td>\n",
       "      <td>[Action, Adventure, Fantasy, Science Fiction]</td>\n",
       "      <td>[{\"id\": 1463, \"name\": \"culture clash\"}, {\"id\":...</td>\n",
       "      <td>[{\"cast_id\": 242, \"character\": \"Jake Sully\", \"...</td>\n",
       "      <td>[{\"credit_id\": \"52fe48009251416c750aca23\", \"de...</td>\n",
       "    </tr>\n",
       "  </tbody>\n",
       "</table>\n",
       "</div>"
      ],
      "text/plain": [
       "   movie_id   title                                           overview  \\\n",
       "0     19995  Avatar  In the 22nd century, a paraplegic Marine is di...   \n",
       "\n",
       "                                          genres  \\\n",
       "0  [Action, Adventure, Fantasy, Science Fiction]   \n",
       "\n",
       "                                            keywords  \\\n",
       "0  [{\"id\": 1463, \"name\": \"culture clash\"}, {\"id\":...   \n",
       "\n",
       "                                                cast  \\\n",
       "0  [{\"cast_id\": 242, \"character\": \"Jake Sully\", \"...   \n",
       "\n",
       "                                                crew  \n",
       "0  [{\"credit_id\": \"52fe48009251416c750aca23\", \"de...  "
      ]
     },
     "execution_count": 16,
     "metadata": {},
     "output_type": "execute_result"
    }
   ],
   "source": [
    "movies.head(1)"
   ]
  },
  {
   "cell_type": "code",
   "execution_count": 17,
   "id": "11d1b7b0",
   "metadata": {
    "execution": {
     "iopub.execute_input": "2024-01-09T18:30:29.079006Z",
     "iopub.status.busy": "2024-01-09T18:30:29.077976Z",
     "iopub.status.idle": "2024-01-09T18:30:29.623258Z",
     "shell.execute_reply": "2024-01-09T18:30:29.622107Z"
    },
    "papermill": {
     "duration": 0.566903,
     "end_time": "2024-01-09T18:30:29.625798",
     "exception": false,
     "start_time": "2024-01-09T18:30:29.058895",
     "status": "completed"
    },
    "tags": []
   },
   "outputs": [
    {
     "data": {
      "text/html": [
       "<div>\n",
       "<style scoped>\n",
       "    .dataframe tbody tr th:only-of-type {\n",
       "        vertical-align: middle;\n",
       "    }\n",
       "\n",
       "    .dataframe tbody tr th {\n",
       "        vertical-align: top;\n",
       "    }\n",
       "\n",
       "    .dataframe thead th {\n",
       "        text-align: right;\n",
       "    }\n",
       "</style>\n",
       "<table border=\"1\" class=\"dataframe\">\n",
       "  <thead>\n",
       "    <tr style=\"text-align: right;\">\n",
       "      <th></th>\n",
       "      <th>movie_id</th>\n",
       "      <th>title</th>\n",
       "      <th>overview</th>\n",
       "      <th>genres</th>\n",
       "      <th>keywords</th>\n",
       "      <th>cast</th>\n",
       "      <th>crew</th>\n",
       "    </tr>\n",
       "  </thead>\n",
       "  <tbody>\n",
       "    <tr>\n",
       "      <th>0</th>\n",
       "      <td>19995</td>\n",
       "      <td>Avatar</td>\n",
       "      <td>In the 22nd century, a paraplegic Marine is di...</td>\n",
       "      <td>[Action, Adventure, Fantasy, Science Fiction]</td>\n",
       "      <td>[culture clash, future, space war, space colon...</td>\n",
       "      <td>[{\"cast_id\": 242, \"character\": \"Jake Sully\", \"...</td>\n",
       "      <td>[{\"credit_id\": \"52fe48009251416c750aca23\", \"de...</td>\n",
       "    </tr>\n",
       "  </tbody>\n",
       "</table>\n",
       "</div>"
      ],
      "text/plain": [
       "   movie_id   title                                           overview  \\\n",
       "0     19995  Avatar  In the 22nd century, a paraplegic Marine is di...   \n",
       "\n",
       "                                          genres  \\\n",
       "0  [Action, Adventure, Fantasy, Science Fiction]   \n",
       "\n",
       "                                            keywords  \\\n",
       "0  [culture clash, future, space war, space colon...   \n",
       "\n",
       "                                                cast  \\\n",
       "0  [{\"cast_id\": 242, \"character\": \"Jake Sully\", \"...   \n",
       "\n",
       "                                                crew  \n",
       "0  [{\"credit_id\": \"52fe48009251416c750aca23\", \"de...  "
      ]
     },
     "execution_count": 17,
     "metadata": {},
     "output_type": "execute_result"
    }
   ],
   "source": [
    "movies['keywords'] = movies['keywords'].apply(solve)\n",
    "movies.head(1)"
   ]
  },
  {
   "cell_type": "code",
   "execution_count": 18,
   "id": "7fae1445",
   "metadata": {
    "execution": {
     "iopub.execute_input": "2024-01-09T18:30:29.661711Z",
     "iopub.status.busy": "2024-01-09T18:30:29.660707Z",
     "iopub.status.idle": "2024-01-09T18:30:29.670836Z",
     "shell.execute_reply": "2024-01-09T18:30:29.669558Z"
    },
    "papermill": {
     "duration": 0.030932,
     "end_time": "2024-01-09T18:30:29.673349",
     "exception": false,
     "start_time": "2024-01-09T18:30:29.642417",
     "status": "completed"
    },
    "tags": []
   },
   "outputs": [
    {
     "data": {
      "text/plain": [
       "['culture clash',\n",
       " 'future',\n",
       " 'space war',\n",
       " 'space colony',\n",
       " 'society',\n",
       " 'space travel',\n",
       " 'futuristic',\n",
       " 'romance',\n",
       " 'space',\n",
       " 'alien',\n",
       " 'tribe',\n",
       " 'alien planet',\n",
       " 'cgi',\n",
       " 'marine',\n",
       " 'soldier',\n",
       " 'battle',\n",
       " 'love affair',\n",
       " 'anti war',\n",
       " 'power relations',\n",
       " 'mind and soul',\n",
       " '3d']"
      ]
     },
     "execution_count": 18,
     "metadata": {},
     "output_type": "execute_result"
    }
   ],
   "source": [
    "movies['keywords'][0]"
   ]
  },
  {
   "cell_type": "code",
   "execution_count": 19,
   "id": "cee97444",
   "metadata": {
    "execution": {
     "iopub.execute_input": "2024-01-09T18:30:29.709317Z",
     "iopub.status.busy": "2024-01-09T18:30:29.708640Z",
     "iopub.status.idle": "2024-01-09T18:30:29.715056Z",
     "shell.execute_reply": "2024-01-09T18:30:29.714093Z"
    },
    "papermill": {
     "duration": 0.027628,
     "end_time": "2024-01-09T18:30:29.717766",
     "exception": false,
     "start_time": "2024-01-09T18:30:29.690138",
     "status": "completed"
    },
    "tags": []
   },
   "outputs": [],
   "source": [
    "def solve2(obj):\n",
    "    L = []\n",
    "    c = 0\n",
    "    for i in ast.literal_eval(obj):\n",
    "        if c<3:\n",
    "            L.append(i['name'])\n",
    "            c+=1\n",
    "        else:\n",
    "            break\n",
    "    return L"
   ]
  },
  {
   "cell_type": "code",
   "execution_count": 20,
   "id": "223a0b28",
   "metadata": {
    "execution": {
     "iopub.execute_input": "2024-01-09T18:30:29.754422Z",
     "iopub.status.busy": "2024-01-09T18:30:29.753986Z",
     "iopub.status.idle": "2024-01-09T18:30:33.907913Z",
     "shell.execute_reply": "2024-01-09T18:30:33.906720Z"
    },
    "papermill": {
     "duration": 4.175581,
     "end_time": "2024-01-09T18:30:33.910633",
     "exception": false,
     "start_time": "2024-01-09T18:30:29.735052",
     "status": "completed"
    },
    "tags": []
   },
   "outputs": [],
   "source": [
    "movies['cast'] = movies['cast'].apply(solve2)"
   ]
  },
  {
   "cell_type": "code",
   "execution_count": 21,
   "id": "f633b42e",
   "metadata": {
    "execution": {
     "iopub.execute_input": "2024-01-09T18:30:33.946166Z",
     "iopub.status.busy": "2024-01-09T18:30:33.945744Z",
     "iopub.status.idle": "2024-01-09T18:30:33.961097Z",
     "shell.execute_reply": "2024-01-09T18:30:33.960007Z"
    },
    "papermill": {
     "duration": 0.03599,
     "end_time": "2024-01-09T18:30:33.963487",
     "exception": false,
     "start_time": "2024-01-09T18:30:33.927497",
     "status": "completed"
    },
    "tags": []
   },
   "outputs": [
    {
     "data": {
      "text/html": [
       "<div>\n",
       "<style scoped>\n",
       "    .dataframe tbody tr th:only-of-type {\n",
       "        vertical-align: middle;\n",
       "    }\n",
       "\n",
       "    .dataframe tbody tr th {\n",
       "        vertical-align: top;\n",
       "    }\n",
       "\n",
       "    .dataframe thead th {\n",
       "        text-align: right;\n",
       "    }\n",
       "</style>\n",
       "<table border=\"1\" class=\"dataframe\">\n",
       "  <thead>\n",
       "    <tr style=\"text-align: right;\">\n",
       "      <th></th>\n",
       "      <th>movie_id</th>\n",
       "      <th>title</th>\n",
       "      <th>overview</th>\n",
       "      <th>genres</th>\n",
       "      <th>keywords</th>\n",
       "      <th>cast</th>\n",
       "      <th>crew</th>\n",
       "    </tr>\n",
       "  </thead>\n",
       "  <tbody>\n",
       "    <tr>\n",
       "      <th>0</th>\n",
       "      <td>19995</td>\n",
       "      <td>Avatar</td>\n",
       "      <td>In the 22nd century, a paraplegic Marine is di...</td>\n",
       "      <td>[Action, Adventure, Fantasy, Science Fiction]</td>\n",
       "      <td>[culture clash, future, space war, space colon...</td>\n",
       "      <td>[Sam Worthington, Zoe Saldana, Sigourney Weaver]</td>\n",
       "      <td>[{\"credit_id\": \"52fe48009251416c750aca23\", \"de...</td>\n",
       "    </tr>\n",
       "  </tbody>\n",
       "</table>\n",
       "</div>"
      ],
      "text/plain": [
       "   movie_id   title                                           overview  \\\n",
       "0     19995  Avatar  In the 22nd century, a paraplegic Marine is di...   \n",
       "\n",
       "                                          genres  \\\n",
       "0  [Action, Adventure, Fantasy, Science Fiction]   \n",
       "\n",
       "                                            keywords  \\\n",
       "0  [culture clash, future, space war, space colon...   \n",
       "\n",
       "                                               cast  \\\n",
       "0  [Sam Worthington, Zoe Saldana, Sigourney Weaver]   \n",
       "\n",
       "                                                crew  \n",
       "0  [{\"credit_id\": \"52fe48009251416c750aca23\", \"de...  "
      ]
     },
     "execution_count": 21,
     "metadata": {},
     "output_type": "execute_result"
    }
   ],
   "source": [
    "movies.head(1)"
   ]
  },
  {
   "cell_type": "code",
   "execution_count": 22,
   "id": "ecfb0482",
   "metadata": {
    "execution": {
     "iopub.execute_input": "2024-01-09T18:30:34.000374Z",
     "iopub.status.busy": "2024-01-09T18:30:33.999395Z",
     "iopub.status.idle": "2024-01-09T18:30:34.006514Z",
     "shell.execute_reply": "2024-01-09T18:30:34.005297Z"
    },
    "papermill": {
     "duration": 0.028603,
     "end_time": "2024-01-09T18:30:34.009142",
     "exception": false,
     "start_time": "2024-01-09T18:30:33.980539",
     "status": "completed"
    },
    "tags": []
   },
   "outputs": [],
   "source": [
    "def solve3(obj):\n",
    "    L = []\n",
    "    for i in ast.literal_eval(obj):\n",
    "        if i['job'] == 'Director':\n",
    "            L.append(i['name'])\n",
    "            break\n",
    "    return L"
   ]
  },
  {
   "cell_type": "code",
   "execution_count": 23,
   "id": "677bc8f5",
   "metadata": {
    "execution": {
     "iopub.execute_input": "2024-01-09T18:30:34.045761Z",
     "iopub.status.busy": "2024-01-09T18:30:34.044812Z",
     "iopub.status.idle": "2024-01-09T18:30:38.679536Z",
     "shell.execute_reply": "2024-01-09T18:30:38.678464Z"
    },
    "papermill": {
     "duration": 4.656049,
     "end_time": "2024-01-09T18:30:38.682513",
     "exception": false,
     "start_time": "2024-01-09T18:30:34.026464",
     "status": "completed"
    },
    "tags": []
   },
   "outputs": [],
   "source": [
    "movies['crew'] = movies['crew'].apply(solve3)"
   ]
  },
  {
   "cell_type": "code",
   "execution_count": 24,
   "id": "6ab3b3e1",
   "metadata": {
    "execution": {
     "iopub.execute_input": "2024-01-09T18:30:38.721604Z",
     "iopub.status.busy": "2024-01-09T18:30:38.720520Z",
     "iopub.status.idle": "2024-01-09T18:30:38.739404Z",
     "shell.execute_reply": "2024-01-09T18:30:38.738259Z"
    },
    "papermill": {
     "duration": 0.041,
     "end_time": "2024-01-09T18:30:38.741832",
     "exception": false,
     "start_time": "2024-01-09T18:30:38.700832",
     "status": "completed"
    },
    "tags": []
   },
   "outputs": [
    {
     "data": {
      "text/html": [
       "<div>\n",
       "<style scoped>\n",
       "    .dataframe tbody tr th:only-of-type {\n",
       "        vertical-align: middle;\n",
       "    }\n",
       "\n",
       "    .dataframe tbody tr th {\n",
       "        vertical-align: top;\n",
       "    }\n",
       "\n",
       "    .dataframe thead th {\n",
       "        text-align: right;\n",
       "    }\n",
       "</style>\n",
       "<table border=\"1\" class=\"dataframe\">\n",
       "  <thead>\n",
       "    <tr style=\"text-align: right;\">\n",
       "      <th></th>\n",
       "      <th>movie_id</th>\n",
       "      <th>title</th>\n",
       "      <th>overview</th>\n",
       "      <th>genres</th>\n",
       "      <th>keywords</th>\n",
       "      <th>cast</th>\n",
       "      <th>crew</th>\n",
       "    </tr>\n",
       "  </thead>\n",
       "  <tbody>\n",
       "    <tr>\n",
       "      <th>0</th>\n",
       "      <td>19995</td>\n",
       "      <td>Avatar</td>\n",
       "      <td>In the 22nd century, a paraplegic Marine is di...</td>\n",
       "      <td>[Action, Adventure, Fantasy, Science Fiction]</td>\n",
       "      <td>[culture clash, future, space war, space colon...</td>\n",
       "      <td>[Sam Worthington, Zoe Saldana, Sigourney Weaver]</td>\n",
       "      <td>[James Cameron]</td>\n",
       "    </tr>\n",
       "    <tr>\n",
       "      <th>1</th>\n",
       "      <td>285</td>\n",
       "      <td>Pirates of the Caribbean: At World's End</td>\n",
       "      <td>Captain Barbossa, long believed to be dead, ha...</td>\n",
       "      <td>[Adventure, Fantasy, Action]</td>\n",
       "      <td>[ocean, drug abuse, exotic island, east india ...</td>\n",
       "      <td>[Johnny Depp, Orlando Bloom, Keira Knightley]</td>\n",
       "      <td>[Gore Verbinski]</td>\n",
       "    </tr>\n",
       "  </tbody>\n",
       "</table>\n",
       "</div>"
      ],
      "text/plain": [
       "   movie_id                                     title  \\\n",
       "0     19995                                    Avatar   \n",
       "1       285  Pirates of the Caribbean: At World's End   \n",
       "\n",
       "                                            overview  \\\n",
       "0  In the 22nd century, a paraplegic Marine is di...   \n",
       "1  Captain Barbossa, long believed to be dead, ha...   \n",
       "\n",
       "                                          genres  \\\n",
       "0  [Action, Adventure, Fantasy, Science Fiction]   \n",
       "1                   [Adventure, Fantasy, Action]   \n",
       "\n",
       "                                            keywords  \\\n",
       "0  [culture clash, future, space war, space colon...   \n",
       "1  [ocean, drug abuse, exotic island, east india ...   \n",
       "\n",
       "                                               cast              crew  \n",
       "0  [Sam Worthington, Zoe Saldana, Sigourney Weaver]   [James Cameron]  \n",
       "1     [Johnny Depp, Orlando Bloom, Keira Knightley]  [Gore Verbinski]  "
      ]
     },
     "execution_count": 24,
     "metadata": {},
     "output_type": "execute_result"
    }
   ],
   "source": [
    "movies.head(2)"
   ]
  },
  {
   "cell_type": "code",
   "execution_count": 25,
   "id": "b38ff279",
   "metadata": {
    "execution": {
     "iopub.execute_input": "2024-01-09T18:30:38.778927Z",
     "iopub.status.busy": "2024-01-09T18:30:38.778511Z",
     "iopub.status.idle": "2024-01-09T18:30:38.826999Z",
     "shell.execute_reply": "2024-01-09T18:30:38.825790Z"
    },
    "papermill": {
     "duration": 0.069597,
     "end_time": "2024-01-09T18:30:38.829438",
     "exception": false,
     "start_time": "2024-01-09T18:30:38.759841",
     "status": "completed"
    },
    "tags": []
   },
   "outputs": [],
   "source": [
    "#movies['overview'] = movies['overview'].apply(lambda x:[i.replace(\" \",\"\") for i in x])\n",
    "movies['genres'] = movies['genres'].apply(lambda x:[i.replace(\" \",\"\") for i in x])\n",
    "movies['keywords'] = movies['keywords'].apply(lambda x:[i.replace(\" \",\"\") for i in x])\n",
    "movies['cast'] = movies['cast'].apply(lambda x:[i.replace(\" \",\"\") for i in x])\n",
    "movies['crew'] = movies['crew'].apply(lambda x:[i.replace(\" \",\"\") for i in x])"
   ]
  },
  {
   "cell_type": "code",
   "execution_count": 26,
   "id": "0c5730ed",
   "metadata": {
    "execution": {
     "iopub.execute_input": "2024-01-09T18:30:38.866641Z",
     "iopub.status.busy": "2024-01-09T18:30:38.866234Z",
     "iopub.status.idle": "2024-01-09T18:30:38.911280Z",
     "shell.execute_reply": "2024-01-09T18:30:38.910163Z"
    },
    "papermill": {
     "duration": 0.06729,
     "end_time": "2024-01-09T18:30:38.914054",
     "exception": false,
     "start_time": "2024-01-09T18:30:38.846764",
     "status": "completed"
    },
    "tags": []
   },
   "outputs": [],
   "source": [
    "movies['overview'] = movies['overview'].apply(lambda x:x.split())"
   ]
  },
  {
   "cell_type": "code",
   "execution_count": 27,
   "id": "719e32b2",
   "metadata": {
    "execution": {
     "iopub.execute_input": "2024-01-09T18:30:38.951630Z",
     "iopub.status.busy": "2024-01-09T18:30:38.951204Z",
     "iopub.status.idle": "2024-01-09T18:30:38.970588Z",
     "shell.execute_reply": "2024-01-09T18:30:38.969421Z"
    },
    "papermill": {
     "duration": 0.041223,
     "end_time": "2024-01-09T18:30:38.973124",
     "exception": false,
     "start_time": "2024-01-09T18:30:38.931901",
     "status": "completed"
    },
    "tags": []
   },
   "outputs": [
    {
     "data": {
      "text/html": [
       "<div>\n",
       "<style scoped>\n",
       "    .dataframe tbody tr th:only-of-type {\n",
       "        vertical-align: middle;\n",
       "    }\n",
       "\n",
       "    .dataframe tbody tr th {\n",
       "        vertical-align: top;\n",
       "    }\n",
       "\n",
       "    .dataframe thead th {\n",
       "        text-align: right;\n",
       "    }\n",
       "</style>\n",
       "<table border=\"1\" class=\"dataframe\">\n",
       "  <thead>\n",
       "    <tr style=\"text-align: right;\">\n",
       "      <th></th>\n",
       "      <th>movie_id</th>\n",
       "      <th>title</th>\n",
       "      <th>overview</th>\n",
       "      <th>genres</th>\n",
       "      <th>keywords</th>\n",
       "      <th>cast</th>\n",
       "      <th>crew</th>\n",
       "    </tr>\n",
       "  </thead>\n",
       "  <tbody>\n",
       "    <tr>\n",
       "      <th>0</th>\n",
       "      <td>19995</td>\n",
       "      <td>Avatar</td>\n",
       "      <td>[In, the, 22nd, century,, a, paraplegic, Marin...</td>\n",
       "      <td>[Action, Adventure, Fantasy, ScienceFiction]</td>\n",
       "      <td>[cultureclash, future, spacewar, spacecolony, ...</td>\n",
       "      <td>[SamWorthington, ZoeSaldana, SigourneyWeaver]</td>\n",
       "      <td>[JamesCameron]</td>\n",
       "    </tr>\n",
       "    <tr>\n",
       "      <th>1</th>\n",
       "      <td>285</td>\n",
       "      <td>Pirates of the Caribbean: At World's End</td>\n",
       "      <td>[Captain, Barbossa,, long, believed, to, be, d...</td>\n",
       "      <td>[Adventure, Fantasy, Action]</td>\n",
       "      <td>[ocean, drugabuse, exoticisland, eastindiatrad...</td>\n",
       "      <td>[JohnnyDepp, OrlandoBloom, KeiraKnightley]</td>\n",
       "      <td>[GoreVerbinski]</td>\n",
       "    </tr>\n",
       "  </tbody>\n",
       "</table>\n",
       "</div>"
      ],
      "text/plain": [
       "   movie_id                                     title  \\\n",
       "0     19995                                    Avatar   \n",
       "1       285  Pirates of the Caribbean: At World's End   \n",
       "\n",
       "                                            overview  \\\n",
       "0  [In, the, 22nd, century,, a, paraplegic, Marin...   \n",
       "1  [Captain, Barbossa,, long, believed, to, be, d...   \n",
       "\n",
       "                                         genres  \\\n",
       "0  [Action, Adventure, Fantasy, ScienceFiction]   \n",
       "1                  [Adventure, Fantasy, Action]   \n",
       "\n",
       "                                            keywords  \\\n",
       "0  [cultureclash, future, spacewar, spacecolony, ...   \n",
       "1  [ocean, drugabuse, exoticisland, eastindiatrad...   \n",
       "\n",
       "                                            cast             crew  \n",
       "0  [SamWorthington, ZoeSaldana, SigourneyWeaver]   [JamesCameron]  \n",
       "1     [JohnnyDepp, OrlandoBloom, KeiraKnightley]  [GoreVerbinski]  "
      ]
     },
     "execution_count": 27,
     "metadata": {},
     "output_type": "execute_result"
    }
   ],
   "source": [
    "movies.head(2)"
   ]
  },
  {
   "cell_type": "code",
   "execution_count": 28,
   "id": "2507b039",
   "metadata": {
    "execution": {
     "iopub.execute_input": "2024-01-09T18:30:39.011341Z",
     "iopub.status.busy": "2024-01-09T18:30:39.010513Z",
     "iopub.status.idle": "2024-01-09T18:30:39.085424Z",
     "shell.execute_reply": "2024-01-09T18:30:39.084260Z"
    },
    "papermill": {
     "duration": 0.097539,
     "end_time": "2024-01-09T18:30:39.088258",
     "exception": false,
     "start_time": "2024-01-09T18:30:38.990719",
     "status": "completed"
    },
    "tags": []
   },
   "outputs": [],
   "source": [
    "movies['tags'] = movies['overview'] + movies['genres'] + movies['keywords'] + movies['cast'] + movies['crew']"
   ]
  },
  {
   "cell_type": "code",
   "execution_count": 29,
   "id": "46bdd0ee",
   "metadata": {
    "execution": {
     "iopub.execute_input": "2024-01-09T18:30:39.126212Z",
     "iopub.status.busy": "2024-01-09T18:30:39.125756Z",
     "iopub.status.idle": "2024-01-09T18:30:39.132325Z",
     "shell.execute_reply": "2024-01-09T18:30:39.131047Z"
    },
    "papermill": {
     "duration": 0.028222,
     "end_time": "2024-01-09T18:30:39.134654",
     "exception": false,
     "start_time": "2024-01-09T18:30:39.106432",
     "status": "completed"
    },
    "tags": []
   },
   "outputs": [],
   "source": [
    "movies = movies.drop(columns=['overview','genres','keywords','cast','crew'])\n"
   ]
  },
  {
   "cell_type": "code",
   "execution_count": 30,
   "id": "e58317bd",
   "metadata": {
    "execution": {
     "iopub.execute_input": "2024-01-09T18:30:39.172552Z",
     "iopub.status.busy": "2024-01-09T18:30:39.172115Z",
     "iopub.status.idle": "2024-01-09T18:30:39.185263Z",
     "shell.execute_reply": "2024-01-09T18:30:39.184120Z"
    },
    "papermill": {
     "duration": 0.034714,
     "end_time": "2024-01-09T18:30:39.187647",
     "exception": false,
     "start_time": "2024-01-09T18:30:39.152933",
     "status": "completed"
    },
    "tags": []
   },
   "outputs": [
    {
     "data": {
      "text/html": [
       "<div>\n",
       "<style scoped>\n",
       "    .dataframe tbody tr th:only-of-type {\n",
       "        vertical-align: middle;\n",
       "    }\n",
       "\n",
       "    .dataframe tbody tr th {\n",
       "        vertical-align: top;\n",
       "    }\n",
       "\n",
       "    .dataframe thead th {\n",
       "        text-align: right;\n",
       "    }\n",
       "</style>\n",
       "<table border=\"1\" class=\"dataframe\">\n",
       "  <thead>\n",
       "    <tr style=\"text-align: right;\">\n",
       "      <th></th>\n",
       "      <th>movie_id</th>\n",
       "      <th>title</th>\n",
       "      <th>tags</th>\n",
       "    </tr>\n",
       "  </thead>\n",
       "  <tbody>\n",
       "    <tr>\n",
       "      <th>0</th>\n",
       "      <td>19995</td>\n",
       "      <td>Avatar</td>\n",
       "      <td>[In, the, 22nd, century,, a, paraplegic, Marin...</td>\n",
       "    </tr>\n",
       "    <tr>\n",
       "      <th>1</th>\n",
       "      <td>285</td>\n",
       "      <td>Pirates of the Caribbean: At World's End</td>\n",
       "      <td>[Captain, Barbossa,, long, believed, to, be, d...</td>\n",
       "    </tr>\n",
       "  </tbody>\n",
       "</table>\n",
       "</div>"
      ],
      "text/plain": [
       "   movie_id                                     title  \\\n",
       "0     19995                                    Avatar   \n",
       "1       285  Pirates of the Caribbean: At World's End   \n",
       "\n",
       "                                                tags  \n",
       "0  [In, the, 22nd, century,, a, paraplegic, Marin...  \n",
       "1  [Captain, Barbossa,, long, believed, to, be, d...  "
      ]
     },
     "execution_count": 30,
     "metadata": {},
     "output_type": "execute_result"
    }
   ],
   "source": [
    "movies.head(2)"
   ]
  },
  {
   "cell_type": "code",
   "execution_count": 31,
   "id": "460a6ef4",
   "metadata": {
    "execution": {
     "iopub.execute_input": "2024-01-09T18:30:39.225172Z",
     "iopub.status.busy": "2024-01-09T18:30:39.224770Z",
     "iopub.status.idle": "2024-01-09T18:30:39.247649Z",
     "shell.execute_reply": "2024-01-09T18:30:39.246754Z"
    },
    "papermill": {
     "duration": 0.04445,
     "end_time": "2024-01-09T18:30:39.249871",
     "exception": false,
     "start_time": "2024-01-09T18:30:39.205421",
     "status": "completed"
    },
    "tags": []
   },
   "outputs": [],
   "source": [
    "movies['tags'] = movies['tags'].apply(lambda x:\" \".join(x))"
   ]
  },
  {
   "cell_type": "code",
   "execution_count": 32,
   "id": "b8bf0693",
   "metadata": {
    "execution": {
     "iopub.execute_input": "2024-01-09T18:30:39.288530Z",
     "iopub.status.busy": "2024-01-09T18:30:39.287850Z",
     "iopub.status.idle": "2024-01-09T18:30:39.302703Z",
     "shell.execute_reply": "2024-01-09T18:30:39.301532Z"
    },
    "papermill": {
     "duration": 0.037261,
     "end_time": "2024-01-09T18:30:39.305261",
     "exception": false,
     "start_time": "2024-01-09T18:30:39.268000",
     "status": "completed"
    },
    "tags": []
   },
   "outputs": [
    {
     "name": "stdout",
     "output_type": "stream",
     "text": [
      "<class 'pandas.core.frame.DataFrame'>\n",
      "Index: 4806 entries, 0 to 4808\n",
      "Data columns (total 3 columns):\n",
      " #   Column    Non-Null Count  Dtype \n",
      "---  ------    --------------  ----- \n",
      " 0   movie_id  4806 non-null   int64 \n",
      " 1   title     4806 non-null   object\n",
      " 2   tags      4806 non-null   object\n",
      "dtypes: int64(1), object(2)\n",
      "memory usage: 279.2+ KB\n"
     ]
    }
   ],
   "source": [
    "movies.info()"
   ]
  },
  {
   "cell_type": "code",
   "execution_count": 33,
   "id": "87f1d055",
   "metadata": {
    "execution": {
     "iopub.execute_input": "2024-01-09T18:30:39.344015Z",
     "iopub.status.busy": "2024-01-09T18:30:39.343596Z",
     "iopub.status.idle": "2024-01-09T18:30:39.355275Z",
     "shell.execute_reply": "2024-01-09T18:30:39.354011Z"
    },
    "papermill": {
     "duration": 0.033709,
     "end_time": "2024-01-09T18:30:39.357770",
     "exception": false,
     "start_time": "2024-01-09T18:30:39.324061",
     "status": "completed"
    },
    "tags": []
   },
   "outputs": [
    {
     "data": {
      "text/html": [
       "<div>\n",
       "<style scoped>\n",
       "    .dataframe tbody tr th:only-of-type {\n",
       "        vertical-align: middle;\n",
       "    }\n",
       "\n",
       "    .dataframe tbody tr th {\n",
       "        vertical-align: top;\n",
       "    }\n",
       "\n",
       "    .dataframe thead th {\n",
       "        text-align: right;\n",
       "    }\n",
       "</style>\n",
       "<table border=\"1\" class=\"dataframe\">\n",
       "  <thead>\n",
       "    <tr style=\"text-align: right;\">\n",
       "      <th></th>\n",
       "      <th>movie_id</th>\n",
       "      <th>title</th>\n",
       "      <th>tags</th>\n",
       "    </tr>\n",
       "  </thead>\n",
       "  <tbody>\n",
       "    <tr>\n",
       "      <th>0</th>\n",
       "      <td>19995</td>\n",
       "      <td>Avatar</td>\n",
       "      <td>In the 22nd century, a paraplegic Marine is di...</td>\n",
       "    </tr>\n",
       "    <tr>\n",
       "      <th>1</th>\n",
       "      <td>285</td>\n",
       "      <td>Pirates of the Caribbean: At World's End</td>\n",
       "      <td>Captain Barbossa, long believed to be dead, ha...</td>\n",
       "    </tr>\n",
       "    <tr>\n",
       "      <th>2</th>\n",
       "      <td>206647</td>\n",
       "      <td>Spectre</td>\n",
       "      <td>A cryptic message from Bond’s past sends him o...</td>\n",
       "    </tr>\n",
       "    <tr>\n",
       "      <th>3</th>\n",
       "      <td>49026</td>\n",
       "      <td>The Dark Knight Rises</td>\n",
       "      <td>Following the death of District Attorney Harve...</td>\n",
       "    </tr>\n",
       "    <tr>\n",
       "      <th>4</th>\n",
       "      <td>49529</td>\n",
       "      <td>John Carter</td>\n",
       "      <td>John Carter is a war-weary, former military ca...</td>\n",
       "    </tr>\n",
       "  </tbody>\n",
       "</table>\n",
       "</div>"
      ],
      "text/plain": [
       "   movie_id                                     title  \\\n",
       "0     19995                                    Avatar   \n",
       "1       285  Pirates of the Caribbean: At World's End   \n",
       "2    206647                                   Spectre   \n",
       "3     49026                     The Dark Knight Rises   \n",
       "4     49529                               John Carter   \n",
       "\n",
       "                                                tags  \n",
       "0  In the 22nd century, a paraplegic Marine is di...  \n",
       "1  Captain Barbossa, long believed to be dead, ha...  \n",
       "2  A cryptic message from Bond’s past sends him o...  \n",
       "3  Following the death of District Attorney Harve...  \n",
       "4  John Carter is a war-weary, former military ca...  "
      ]
     },
     "execution_count": 33,
     "metadata": {},
     "output_type": "execute_result"
    }
   ],
   "source": [
    "movies.head()"
   ]
  },
  {
   "cell_type": "code",
   "execution_count": 34,
   "id": "8cff7b0d",
   "metadata": {
    "execution": {
     "iopub.execute_input": "2024-01-09T18:30:39.396514Z",
     "iopub.status.busy": "2024-01-09T18:30:39.395831Z",
     "iopub.status.idle": "2024-01-09T18:30:39.412399Z",
     "shell.execute_reply": "2024-01-09T18:30:39.411203Z"
    },
    "papermill": {
     "duration": 0.038641,
     "end_time": "2024-01-09T18:30:39.414850",
     "exception": false,
     "start_time": "2024-01-09T18:30:39.376209",
     "status": "completed"
    },
    "tags": []
   },
   "outputs": [],
   "source": [
    "movies['tags'] = movies['tags'].apply(lambda x:x.lower())"
   ]
  },
  {
   "cell_type": "code",
   "execution_count": 35,
   "id": "1ebd72ce",
   "metadata": {
    "execution": {
     "iopub.execute_input": "2024-01-09T18:30:39.453853Z",
     "iopub.status.busy": "2024-01-09T18:30:39.453060Z",
     "iopub.status.idle": "2024-01-09T18:30:41.541097Z",
     "shell.execute_reply": "2024-01-09T18:30:41.539935Z"
    },
    "papermill": {
     "duration": 2.11032,
     "end_time": "2024-01-09T18:30:41.543844",
     "exception": false,
     "start_time": "2024-01-09T18:30:39.433524",
     "status": "completed"
    },
    "tags": []
   },
   "outputs": [],
   "source": [
    "from nltk.stem.porter import PorterStemmer\n",
    "ps = PorterStemmer()\n"
   ]
  },
  {
   "cell_type": "code",
   "execution_count": 36,
   "id": "79c40c79",
   "metadata": {
    "execution": {
     "iopub.execute_input": "2024-01-09T18:30:41.583712Z",
     "iopub.status.busy": "2024-01-09T18:30:41.582632Z",
     "iopub.status.idle": "2024-01-09T18:30:41.588585Z",
     "shell.execute_reply": "2024-01-09T18:30:41.587520Z"
    },
    "papermill": {
     "duration": 0.028162,
     "end_time": "2024-01-09T18:30:41.591002",
     "exception": false,
     "start_time": "2024-01-09T18:30:41.562840",
     "status": "completed"
    },
    "tags": []
   },
   "outputs": [],
   "source": [
    "def stem(text):\n",
    "    L = []\n",
    "    for i in text.split():\n",
    "        L.append(ps.stem(i))\n",
    "    \n",
    "    return \" \".join(L)"
   ]
  },
  {
   "cell_type": "code",
   "execution_count": 37,
   "id": "9ba53bde",
   "metadata": {
    "execution": {
     "iopub.execute_input": "2024-01-09T18:30:41.629696Z",
     "iopub.status.busy": "2024-01-09T18:30:41.629273Z",
     "iopub.status.idle": "2024-01-09T18:30:52.507352Z",
     "shell.execute_reply": "2024-01-09T18:30:52.505634Z"
    },
    "papermill": {
     "duration": 10.901553,
     "end_time": "2024-01-09T18:30:52.511007",
     "exception": false,
     "start_time": "2024-01-09T18:30:41.609454",
     "status": "completed"
    },
    "tags": []
   },
   "outputs": [],
   "source": [
    "movies['tags'] = movies['tags'].apply(stem)"
   ]
  },
  {
   "cell_type": "code",
   "execution_count": 38,
   "id": "f6b56620",
   "metadata": {
    "execution": {
     "iopub.execute_input": "2024-01-09T18:30:52.563497Z",
     "iopub.status.busy": "2024-01-09T18:30:52.562683Z",
     "iopub.status.idle": "2024-01-09T18:30:52.570948Z",
     "shell.execute_reply": "2024-01-09T18:30:52.569946Z"
    },
    "papermill": {
     "duration": 0.03896,
     "end_time": "2024-01-09T18:30:52.573311",
     "exception": false,
     "start_time": "2024-01-09T18:30:52.534351",
     "status": "completed"
    },
    "tags": []
   },
   "outputs": [
    {
     "data": {
      "text/plain": [
       "'in the 22nd century, a parapleg marin is dispatch to the moon pandora on a uniqu mission, but becom torn between follow order and protect an alien civilization. action adventur fantasi sciencefict cultureclash futur spacewar spacecoloni societi spacetravel futurist romanc space alien tribe alienplanet cgi marin soldier battl loveaffair antiwar powerrel mindandsoul 3d samworthington zoesaldana sigourneyweav jamescameron'"
      ]
     },
     "execution_count": 38,
     "metadata": {},
     "output_type": "execute_result"
    }
   ],
   "source": [
    "movies.iloc[0].tags"
   ]
  },
  {
   "cell_type": "code",
   "execution_count": 39,
   "id": "e9aa0a90",
   "metadata": {
    "execution": {
     "iopub.execute_input": "2024-01-09T18:30:52.617183Z",
     "iopub.status.busy": "2024-01-09T18:30:52.616405Z",
     "iopub.status.idle": "2024-01-09T18:30:52.621076Z",
     "shell.execute_reply": "2024-01-09T18:30:52.620282Z"
    },
    "papermill": {
     "duration": 0.027439,
     "end_time": "2024-01-09T18:30:52.623352",
     "exception": false,
     "start_time": "2024-01-09T18:30:52.595913",
     "status": "completed"
    },
    "tags": []
   },
   "outputs": [],
   "source": [
    "from sklearn.feature_extraction.text import CountVectorizer\n",
    "cv = CountVectorizer(max_features=5000,stop_words='english')"
   ]
  },
  {
   "cell_type": "code",
   "execution_count": 40,
   "id": "b7cf288f",
   "metadata": {
    "execution": {
     "iopub.execute_input": "2024-01-09T18:30:52.662446Z",
     "iopub.status.busy": "2024-01-09T18:30:52.661986Z",
     "iopub.status.idle": "2024-01-09T18:30:53.340776Z",
     "shell.execute_reply": "2024-01-09T18:30:53.339465Z"
    },
    "papermill": {
     "duration": 0.701897,
     "end_time": "2024-01-09T18:30:53.343813",
     "exception": false,
     "start_time": "2024-01-09T18:30:52.641916",
     "status": "completed"
    },
    "tags": []
   },
   "outputs": [],
   "source": [
    "vector = cv.fit_transform(movies['tags']).toarray()"
   ]
  },
  {
   "cell_type": "code",
   "execution_count": 41,
   "id": "c2d8559e",
   "metadata": {
    "execution": {
     "iopub.execute_input": "2024-01-09T18:30:53.384214Z",
     "iopub.status.busy": "2024-01-09T18:30:53.383761Z",
     "iopub.status.idle": "2024-01-09T18:30:53.390828Z",
     "shell.execute_reply": "2024-01-09T18:30:53.389732Z"
    },
    "papermill": {
     "duration": 0.03048,
     "end_time": "2024-01-09T18:30:53.393313",
     "exception": false,
     "start_time": "2024-01-09T18:30:53.362833",
     "status": "completed"
    },
    "tags": []
   },
   "outputs": [
    {
     "data": {
      "text/plain": [
       "(4806, 5000)"
      ]
     },
     "execution_count": 41,
     "metadata": {},
     "output_type": "execute_result"
    }
   ],
   "source": [
    "vector.shape"
   ]
  },
  {
   "cell_type": "code",
   "execution_count": 42,
   "id": "25397c4b",
   "metadata": {
    "execution": {
     "iopub.execute_input": "2024-01-09T18:30:53.433678Z",
     "iopub.status.busy": "2024-01-09T18:30:53.432932Z",
     "iopub.status.idle": "2024-01-09T18:30:55.705872Z",
     "shell.execute_reply": "2024-01-09T18:30:55.704319Z"
    },
    "papermill": {
     "duration": 2.297308,
     "end_time": "2024-01-09T18:30:55.709727",
     "exception": false,
     "start_time": "2024-01-09T18:30:53.412419",
     "status": "completed"
    },
    "tags": []
   },
   "outputs": [],
   "source": [
    "from sklearn.metrics.pairwise import cosine_similarity\n",
    "cosine_similarities = cosine_similarity(vector)"
   ]
  },
  {
   "cell_type": "code",
   "execution_count": 43,
   "id": "cb2303c9",
   "metadata": {
    "execution": {
     "iopub.execute_input": "2024-01-09T18:30:55.749064Z",
     "iopub.status.busy": "2024-01-09T18:30:55.748650Z",
     "iopub.status.idle": "2024-01-09T18:30:55.755683Z",
     "shell.execute_reply": "2024-01-09T18:30:55.754435Z"
    },
    "papermill": {
     "duration": 0.030148,
     "end_time": "2024-01-09T18:30:55.758620",
     "exception": false,
     "start_time": "2024-01-09T18:30:55.728472",
     "status": "completed"
    },
    "tags": []
   },
   "outputs": [],
   "source": [
    "def recommend(movie):\n",
    "    index = movies[movies['title']==movie].index[0]\n",
    "    distances = cosine_similarities[index]\n",
    "    movie_list = sorted(list(enumerate(distances)),reverse = True,key=lambda x:x[1])[1:6]\n",
    "    \n",
    "    for i in movie_list:\n",
    "        print(movies.iloc[i[0]].title)\n",
    "        "
   ]
  },
  {
   "cell_type": "code",
   "execution_count": 44,
   "id": "3195480d",
   "metadata": {
    "execution": {
     "iopub.execute_input": "2024-01-09T18:30:55.797635Z",
     "iopub.status.busy": "2024-01-09T18:30:55.797210Z",
     "iopub.status.idle": "2024-01-09T18:30:55.810846Z",
     "shell.execute_reply": "2024-01-09T18:30:55.809672Z"
    },
    "papermill": {
     "duration": 0.03699,
     "end_time": "2024-01-09T18:30:55.814299",
     "exception": false,
     "start_time": "2024-01-09T18:30:55.777309",
     "status": "completed"
    },
    "tags": []
   },
   "outputs": [
    {
     "name": "stdout",
     "output_type": "stream",
     "text": [
      "Pirates of the Caribbean: Dead Man's Chest\n",
      "Pirates of the Caribbean: The Curse of the Black Pearl\n",
      "Pirates of the Caribbean: On Stranger Tides\n",
      "Life of Pi\n",
      "20,000 Leagues Under the Sea\n"
     ]
    }
   ],
   "source": [
    "recommend(\"Pirates of the Caribbean: At World's End\")"
   ]
  },
  {
   "cell_type": "code",
   "execution_count": 45,
   "id": "388e90f5",
   "metadata": {
    "execution": {
     "iopub.execute_input": "2024-01-09T18:30:55.854463Z",
     "iopub.status.busy": "2024-01-09T18:30:55.854018Z",
     "iopub.status.idle": "2024-01-09T18:30:55.858485Z",
     "shell.execute_reply": "2024-01-09T18:30:55.857523Z"
    },
    "papermill": {
     "duration": 0.027477,
     "end_time": "2024-01-09T18:30:55.860856",
     "exception": false,
     "start_time": "2024-01-09T18:30:55.833379",
     "status": "completed"
    },
    "tags": []
   },
   "outputs": [],
   "source": [
    "#happy_coding"
   ]
  },
  {
   "cell_type": "code",
   "execution_count": null,
   "id": "babc2f59",
   "metadata": {
    "papermill": {
     "duration": 0.019394,
     "end_time": "2024-01-09T18:30:55.899691",
     "exception": false,
     "start_time": "2024-01-09T18:30:55.880297",
     "status": "completed"
    },
    "tags": []
   },
   "outputs": [],
   "source": []
  }
 ],
 "metadata": {
  "kaggle": {
   "accelerator": "none",
   "dataSources": [
    {
     "datasetId": 6338,
     "sourceId": 9274,
     "sourceType": "datasetVersion"
    },
    {
     "datasetId": 350391,
     "sourceId": 690121,
     "sourceType": "datasetVersion"
    }
   ],
   "dockerImageVersionId": 30626,
   "isGpuEnabled": false,
   "isInternetEnabled": true,
   "language": "python",
   "sourceType": "notebook"
  },
  "kernelspec": {
   "display_name": "Python 3",
   "language": "python",
   "name": "python3"
  },
  "language_info": {
   "codemirror_mode": {
    "name": "ipython",
    "version": 3
   },
   "file_extension": ".py",
   "mimetype": "text/x-python",
   "name": "python",
   "nbconvert_exporter": "python",
   "pygments_lexer": "ipython3",
   "version": "3.10.12"
  },
  "papermill": {
   "default_parameters": {},
   "duration": 33.812847,
   "end_time": "2024-01-09T18:30:56.639479",
   "environment_variables": {},
   "exception": null,
   "input_path": "__notebook__.ipynb",
   "output_path": "__notebook__.ipynb",
   "parameters": {},
   "start_time": "2024-01-09T18:30:22.826632",
   "version": "2.4.0"
  }
 },
 "nbformat": 4,
 "nbformat_minor": 5
}
